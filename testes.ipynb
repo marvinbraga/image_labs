{
 "cells": [
  {
   "cell_type": "code",
   "execution_count": 1,
   "metadata": {
    "collapsed": true,
    "ExecuteTime": {
     "end_time": "2023-07-26T20:04:26.495536498Z",
     "start_time": "2023-07-26T20:04:26.239188791Z"
    }
   },
   "outputs": [],
   "source": [
    "import cv2\n",
    "\n",
    "from modules.loader import DefaultImageLoader\n",
    "from modules.landmark import DlibLandmarkFinder\n",
    "from modules.transformer import AffineImageTransformer\n",
    "from modules.colour import DefaultColorCorrector\n",
    "from modules.animator import ImageMorphingAnimator"
   ]
  },
  {
   "cell_type": "code",
   "execution_count": 2,
   "outputs": [],
   "source": [
    "image_loader = DefaultImageLoader()\n",
    "landmark_finder = DlibLandmarkFinder('res/shape_predictor_68_face_landmarks.dat')\n",
    "image_transformer = AffineImageTransformer()\n",
    "color_corrector = DefaultColorCorrector()"
   ],
   "metadata": {
    "collapsed": false,
    "ExecuteTime": {
     "end_time": "2023-07-26T20:04:30.084565230Z",
     "start_time": "2023-07-26T20:04:29.678058965Z"
    }
   }
  },
  {
   "cell_type": "code",
   "execution_count": 3,
   "outputs": [],
   "source": [
    "# Carrega as duas imagens e encontra os pontos de referência\n",
    "image1 = image_loader.load_image('inputs/image1.png')\n",
    "image2 = image_loader.load_image('inputs/image2.png')\n",
    "\n",
    "# Redimensiona as imagens para ter o mesmo tamanho\n",
    "height = min(image1.shape[0], image2.shape[0])\n",
    "width = min(image1.shape[1], image2.shape[1])\n",
    "image1 = cv2.resize(image1, (width, height))\n",
    "image2 = cv2.resize(image2, (width, height))\n",
    "\n",
    "landmarks1 = landmark_finder.find_landmarks(image1)\n",
    "landmarks2 = landmark_finder.find_landmarks(image2)"
   ],
   "metadata": {
    "collapsed": false,
    "ExecuteTime": {
     "end_time": "2023-07-26T20:04:31.961747065Z",
     "start_time": "2023-07-26T20:04:31.845422307Z"
    }
   }
  },
  {
   "cell_type": "code",
   "execution_count": 4,
   "outputs": [],
   "source": [
    "from scipy.spatial import Delaunay\n",
    "\n",
    "# Compute Delaunay triangulation for image1 landmarks\n",
    "triangles1 = Delaunay(landmarks1)\n",
    "\n",
    "# Compute Delaunay triangulation for image2 landmarks\n",
    "triangles2 = Delaunay(landmarks2)\n",
    "\n",
    "# Create the ImageMorphingAnimator object\n",
    "animator = ImageMorphingAnimator(image_transformer=None, num_frames=30, show_images=True)"
   ],
   "metadata": {
    "collapsed": false,
    "ExecuteTime": {
     "end_time": "2023-07-26T20:04:41.918239139Z",
     "start_time": "2023-07-26T20:04:41.910398386Z"
    }
   }
  },
  {
   "cell_type": "code",
   "execution_count": 8,
   "outputs": [
    {
     "name": "stdout",
     "output_type": "stream",
     "text": [
      "Tamanho dos pontos de referência de image1: (68, 2)\n",
      "Tamanho dos pontos de referência de image2: (68, 2)\n"
     ]
    }
   ],
   "source": [
    "print(\"Tamanho dos pontos de referência de image1:\", landmarks1.shape)\n",
    "print(\"Tamanho dos pontos de referência de image2:\", landmarks2.shape)"
   ],
   "metadata": {
    "collapsed": false,
    "ExecuteTime": {
     "end_time": "2023-07-26T19:51:23.523679953Z",
     "start_time": "2023-07-26T19:51:23.480093475Z"
    }
   }
  },
  {
   "cell_type": "code",
   "execution_count": 9,
   "outputs": [
    {
     "name": "stdout",
     "output_type": "stream",
     "text": [
      "Pontos de referência de image1:\n",
      "[[129 158]\n",
      " [131 179]\n",
      " [135 200]\n",
      " [139 220]\n",
      " [145 240]]\n",
      "Pontos de referência de image2:\n",
      "[[ 73 187]\n",
      " [ 68 204]\n",
      " [ 66 222]\n",
      " [ 69 241]\n",
      " [ 74 259]]\n",
      "Número de triângulos em image1: 111\n",
      "Número de triângulos em image2: 116\n",
      "Índices dos pontos de referência do triângulo 0 em image1: [ 2 41 31]\n",
      "Índices dos pontos de referência do triângulo 0 em image2: [30 33 32]\n",
      "Pontos de referência do triângulo 0 em image1:\n",
      "[[135 200]\n",
      " [166 160]\n",
      " [195 205]]\n",
      "Pontos de referência do triângulo 0 em image2:\n",
      "[[ 98 226]\n",
      " [105 243]\n",
      " [ 99 240]]\n"
     ]
    }
   ],
   "source": [
    "print(\"Pontos de referência de image1:\")\n",
    "print(landmarks1[:5])\n",
    "\n",
    "print(\"Pontos de referência de image2:\")\n",
    "print(landmarks2[:5])\n",
    "\n",
    "print(\"Número de triângulos em image1:\", len(triangles1.simplices))\n",
    "print(\"Número de triângulos em image2:\", len(triangles2.simplices))\n",
    "\n",
    "# Se você quiser visualizar os índices dos pontos de referência para um triângulo específico, você pode fazer:\n",
    "triangle_index = 0  # Defina o índice do triângulo que deseja verificar\n",
    "print(\"Índices dos pontos de referência do triângulo\", triangle_index, \"em image1:\", triangles1.simplices[triangle_index])\n",
    "print(\"Índices dos pontos de referência do triângulo\", triangle_index, \"em image2:\", triangles2.simplices[triangle_index])\n",
    "\n",
    "# Se você quiser visualizar as coordenadas dos pontos de referência para o mesmo triângulo:\n",
    "triangle_points_image1 = landmarks1[triangles1.simplices[triangle_index]]\n",
    "triangle_points_image2 = landmarks2[triangles2.simplices[triangle_index]]\n",
    "\n",
    "print(\"Pontos de referência do triângulo\", triangle_index, \"em image1:\")\n",
    "print(triangle_points_image1)\n",
    "\n",
    "print(\"Pontos de referência do triângulo\", triangle_index, \"em image2:\")\n",
    "print(triangle_points_image2)"
   ],
   "metadata": {
    "collapsed": false,
    "ExecuteTime": {
     "end_time": "2023-07-26T19:52:25.995632407Z",
     "start_time": "2023-07-26T19:52:25.954649513Z"
    }
   }
  },
  {
   "cell_type": "code",
   "execution_count": 5,
   "outputs": [
    {
     "ename": "KeyboardInterrupt",
     "evalue": "",
     "output_type": "error",
     "traceback": [
      "\u001B[0;31m---------------------------------------------------------------------------\u001B[0m",
      "\u001B[0;31mKeyboardInterrupt\u001B[0m                         Traceback (most recent call last)",
      "Cell \u001B[0;32mIn[5], line 5\u001B[0m\n\u001B[1;32m      2\u001B[0m output_path \u001B[38;5;241m=\u001B[39m \u001B[38;5;124m'\u001B[39m\u001B[38;5;124moutputs/video.mp4\u001B[39m\u001B[38;5;124m'\u001B[39m\n\u001B[1;32m      4\u001B[0m \u001B[38;5;66;03m# Chamar o método animate para criar a animação de morphing\u001B[39;00m\n\u001B[0;32m----> 5\u001B[0m \u001B[43manimator\u001B[49m\u001B[38;5;241;43m.\u001B[39;49m\u001B[43manimate\u001B[49m\u001B[43m(\u001B[49m\u001B[43mimage1\u001B[49m\u001B[43m,\u001B[49m\u001B[43m \u001B[49m\u001B[43mimage2\u001B[49m\u001B[43m,\u001B[49m\u001B[43m \u001B[49m\u001B[43mlandmarks1\u001B[49m\u001B[43m,\u001B[49m\u001B[43m \u001B[49m\u001B[43mlandmarks2\u001B[49m\u001B[43m,\u001B[49m\u001B[43m \u001B[49m\u001B[43moutput_path\u001B[49m\u001B[43m)\u001B[49m\n",
      "File \u001B[0;32m~/python/projs/image_labs/modules/animator.py:28\u001B[0m, in \u001B[0;36mImageMorphingAnimator.animate\u001B[0;34m(self, image1, image2, landmarks1, landmarks2, output_path)\u001B[0m\n\u001B[1;32m     25\u001B[0m     \u001B[38;5;28;01mif\u001B[39;00m \u001B[38;5;28mself\u001B[39m\u001B[38;5;241m.\u001B[39m_verbose:\n\u001B[1;32m     26\u001B[0m         \u001B[38;5;66;03m# Print the landmarks for the current triangle before calling _morph_triangle\u001B[39;00m\n\u001B[1;32m     27\u001B[0m         \u001B[38;5;28mprint\u001B[39m(\u001B[38;5;124m\"\u001B[39m\u001B[38;5;124mTriangle Landmarks:\u001B[39m\u001B[38;5;124m\"\u001B[39m, landmarks1[triangle], landmarks2[triangle])\n\u001B[0;32m---> 28\u001B[0m     \u001B[38;5;28;43mself\u001B[39;49m\u001B[38;5;241;43m.\u001B[39;49m\u001B[43m_morph_triangle\u001B[49m\u001B[43m(\u001B[49m\u001B[43mimage1\u001B[49m\u001B[43m,\u001B[49m\u001B[43m \u001B[49m\u001B[43mimage2\u001B[49m\u001B[43m,\u001B[49m\u001B[43m \u001B[49m\u001B[43mlandmarks1\u001B[49m\u001B[43m,\u001B[49m\u001B[43m \u001B[49m\u001B[43mlandmarks2\u001B[49m\u001B[43m,\u001B[49m\u001B[43m \u001B[49m\u001B[43mmorphed_image\u001B[49m\u001B[43m,\u001B[49m\u001B[43m \u001B[49m\u001B[43mtriangle\u001B[49m\u001B[43m,\u001B[49m\u001B[43m \u001B[49m\u001B[43mt\u001B[49m\u001B[43m)\u001B[49m\n\u001B[1;32m     30\u001B[0m \u001B[38;5;66;03m# Append the current morphed_image to morph_frames.\u001B[39;00m\n\u001B[1;32m     31\u001B[0m morph_frames\u001B[38;5;241m.\u001B[39mappend((morphed_image \u001B[38;5;241m*\u001B[39m \u001B[38;5;241m255\u001B[39m)\u001B[38;5;241m.\u001B[39mastype(np\u001B[38;5;241m.\u001B[39muint8))\n",
      "File \u001B[0;32m~/python/projs/image_labs/modules/animator.py:60\u001B[0m, in \u001B[0;36mImageMorphingAnimator._morph_triangle\u001B[0;34m(self, image1, image2, landmarks1, landmarks2, morphed_image, triangle, t)\u001B[0m\n\u001B[1;32m     57\u001B[0m trans2\u001B[38;5;241m.\u001B[39mestimate(tr, tr2)\n\u001B[1;32m     59\u001B[0m \u001B[38;5;66;03m# Apply the transformation to the region bounded by this triangle in the images.\u001B[39;00m\n\u001B[0;32m---> 60\u001B[0m im1_warped \u001B[38;5;241m=\u001B[39m \u001B[43mwarp\u001B[49m\u001B[43m(\u001B[49m\u001B[43mimage1\u001B[49m\u001B[43m,\u001B[49m\u001B[43m \u001B[49m\u001B[43mtrans1\u001B[49m\u001B[38;5;241;43m.\u001B[39;49m\u001B[43minverse\u001B[49m\u001B[43m,\u001B[49m\u001B[43m \u001B[49m\u001B[43moutput_shape\u001B[49m\u001B[38;5;241;43m=\u001B[39;49m\u001B[43mimage1\u001B[49m\u001B[38;5;241;43m.\u001B[39;49m\u001B[43mshape\u001B[49m\u001B[43m)\u001B[49m\n\u001B[1;32m     61\u001B[0m im2_warped \u001B[38;5;241m=\u001B[39m warp(image2, trans2\u001B[38;5;241m.\u001B[39minverse, output_shape\u001B[38;5;241m=\u001B[39mimage2\u001B[38;5;241m.\u001B[39mshape)\n\u001B[1;32m     63\u001B[0m \u001B[38;5;66;03m# Form the intermediate image for this triangle.\u001B[39;00m\n",
      "File \u001B[0;32m~/.cache/pypoetry/virtualenvs/image-labs-x1xnFf8p-py3.10/lib/python3.10/site-packages/skimage/transform/_warps.py:900\u001B[0m, in \u001B[0;36mwarp\u001B[0;34m(image, inverse_map, map_args, output_shape, order, mode, cval, clip, preserve_range)\u001B[0m\n\u001B[1;32m    898\u001B[0m             dims \u001B[38;5;241m=\u001B[39m []\n\u001B[1;32m    899\u001B[0m             \u001B[38;5;28;01mfor\u001B[39;00m dim \u001B[38;5;129;01min\u001B[39;00m \u001B[38;5;28mrange\u001B[39m(image\u001B[38;5;241m.\u001B[39mshape[\u001B[38;5;241m2\u001B[39m]):\n\u001B[0;32m--> 900\u001B[0m                 dims\u001B[38;5;241m.\u001B[39mappend(\u001B[43m_warp_fast\u001B[49m\u001B[43m[\u001B[49m\u001B[43mctype\u001B[49m\u001B[43m]\u001B[49m\u001B[43m(\u001B[49m\u001B[43mimage\u001B[49m\u001B[43m[\u001B[49m\u001B[38;5;241;43m.\u001B[39;49m\u001B[38;5;241;43m.\u001B[39;49m\u001B[38;5;241;43m.\u001B[39;49m\u001B[43m,\u001B[49m\u001B[43m \u001B[49m\u001B[43mdim\u001B[49m\u001B[43m]\u001B[49m\u001B[43m,\u001B[49m\u001B[43m \u001B[49m\u001B[43mmatrix\u001B[49m\u001B[43m,\u001B[49m\n\u001B[1;32m    901\u001B[0m \u001B[43m                                              \u001B[49m\u001B[43moutput_shape\u001B[49m\u001B[38;5;241;43m=\u001B[39;49m\u001B[43moutput_shape\u001B[49m\u001B[43m,\u001B[49m\n\u001B[1;32m    902\u001B[0m \u001B[43m                                              \u001B[49m\u001B[43morder\u001B[49m\u001B[38;5;241;43m=\u001B[39;49m\u001B[43morder\u001B[49m\u001B[43m,\u001B[49m\u001B[43m \u001B[49m\u001B[43mmode\u001B[49m\u001B[38;5;241;43m=\u001B[39;49m\u001B[43mmode\u001B[49m\u001B[43m,\u001B[49m\n\u001B[1;32m    903\u001B[0m \u001B[43m                                              \u001B[49m\u001B[43mcval\u001B[49m\u001B[38;5;241;43m=\u001B[39;49m\u001B[43mcval\u001B[49m\u001B[43m)\u001B[49m)\n\u001B[1;32m    904\u001B[0m             warped \u001B[38;5;241m=\u001B[39m np\u001B[38;5;241m.\u001B[39mdstack(dims)\n\u001B[1;32m    906\u001B[0m \u001B[38;5;28;01mif\u001B[39;00m warped \u001B[38;5;129;01mis\u001B[39;00m \u001B[38;5;28;01mNone\u001B[39;00m:\n\u001B[1;32m    907\u001B[0m     \u001B[38;5;66;03m# use ndi.map_coordinates\u001B[39;00m\n",
      "\u001B[0;31mKeyboardInterrupt\u001B[0m: "
     ]
    }
   ],
   "source": [
    "# Definir o caminho de saída para o arquivo de vídeo gerado\n",
    "output_path = 'outputs/video.mp4'\n",
    "\n",
    "# Chamar o método animate para criar a animação de morphing\n",
    "animator.animate(image1, image2, landmarks1, landmarks2, output_path)"
   ],
   "metadata": {
    "collapsed": false,
    "ExecuteTime": {
     "end_time": "2023-07-26T20:05:16.711284157Z",
     "start_time": "2023-07-26T20:04:56.737704920Z"
    }
   }
  },
  {
   "cell_type": "code",
   "execution_count": null,
   "outputs": [],
   "source": [],
   "metadata": {
    "collapsed": false
   }
  }
 ],
 "metadata": {
  "kernelspec": {
   "display_name": "Python 3",
   "language": "python",
   "name": "python3"
  },
  "language_info": {
   "codemirror_mode": {
    "name": "ipython",
    "version": 2
   },
   "file_extension": ".py",
   "mimetype": "text/x-python",
   "name": "python",
   "nbconvert_exporter": "python",
   "pygments_lexer": "ipython2",
   "version": "2.7.6"
  }
 },
 "nbformat": 4,
 "nbformat_minor": 0
}
